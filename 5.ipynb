{
 "cells": [
  {
   "cell_type": "code",
   "execution_count": null,
   "id": "a0f0bce5",
   "metadata": {},
   "outputs": [
    {
     "name": "stdout",
     "output_type": "stream",
     "text": [
      "Creating new Ultralytics Settings v0.0.6 file  \n",
      "View Ultralytics Settings with 'yolo settings' or at 'C:\\Users\\Admin\\AppData\\Roaming\\Ultralytics\\settings.json'\n",
      "Update Settings with 'yolo settings key=value', i.e. 'yolo settings runs_dir=path/to/dir'. For help see https://docs.ultralytics.com/quickstart/#ultralytics-settings.\n",
      "\u001b[KDownloading https://github.com/ultralytics/assets/releases/download/v8.3.0/yolov8n.pt to 'yolov8n.pt': 100% ━━━━━━━━━━━━ 6.2/6.2MB 33.2MB/s 0.2s0.1s\n",
      "\n",
      "image 1/1 c:\\githome\\wn7_robo\\000004.jpg: 640x640 2 birds, 4 kites, 16.9ms\n",
      "Speed: 2.9ms preprocess, 16.9ms inference, 75.0ms postprocess per image at shape (1, 3, 640, 640)\n"
     ]
    },
    {
     "data": {
      "text/plain": [
       "[ultralytics.engine.results.Results object with attributes:\n",
       " \n",
       " boxes: ultralytics.engine.results.Boxes object\n",
       " keypoints: None\n",
       " masks: None\n",
       " names: {0: 'person', 1: 'bicycle', 2: 'car', 3: 'motorcycle', 4: 'airplane', 5: 'bus', 6: 'train', 7: 'truck', 8: 'boat', 9: 'traffic light', 10: 'fire hydrant', 11: 'stop sign', 12: 'parking meter', 13: 'bench', 14: 'bird', 15: 'cat', 16: 'dog', 17: 'horse', 18: 'sheep', 19: 'cow', 20: 'elephant', 21: 'bear', 22: 'zebra', 23: 'giraffe', 24: 'backpack', 25: 'umbrella', 26: 'handbag', 27: 'tie', 28: 'suitcase', 29: 'frisbee', 30: 'skis', 31: 'snowboard', 32: 'sports ball', 33: 'kite', 34: 'baseball bat', 35: 'baseball glove', 36: 'skateboard', 37: 'surfboard', 38: 'tennis racket', 39: 'bottle', 40: 'wine glass', 41: 'cup', 42: 'fork', 43: 'knife', 44: 'spoon', 45: 'bowl', 46: 'banana', 47: 'apple', 48: 'sandwich', 49: 'orange', 50: 'broccoli', 51: 'carrot', 52: 'hot dog', 53: 'pizza', 54: 'donut', 55: 'cake', 56: 'chair', 57: 'couch', 58: 'potted plant', 59: 'bed', 60: 'dining table', 61: 'toilet', 62: 'tv', 63: 'laptop', 64: 'mouse', 65: 'remote', 66: 'keyboard', 67: 'cell phone', 68: 'microwave', 69: 'oven', 70: 'toaster', 71: 'sink', 72: 'refrigerator', 73: 'book', 74: 'clock', 75: 'vase', 76: 'scissors', 77: 'teddy bear', 78: 'hair drier', 79: 'toothbrush'}\n",
       " obb: None\n",
       " orig_img: array([[[255, 255, 255],\n",
       "         [255, 255, 255],\n",
       "         [255, 255, 255],\n",
       "         ...,\n",
       "         [255, 255, 255],\n",
       "         [255, 255, 255],\n",
       "         [255, 255, 255]],\n",
       " \n",
       "        [[255, 255, 255],\n",
       "         [255, 255, 255],\n",
       "         [255, 255, 255],\n",
       "         ...,\n",
       "         [255, 255, 255],\n",
       "         [255, 255, 255],\n",
       "         [255, 255, 255]],\n",
       " \n",
       "        [[255, 255, 255],\n",
       "         [255, 255, 255],\n",
       "         [255, 255, 255],\n",
       "         ...,\n",
       "         [255, 255, 255],\n",
       "         [255, 255, 255],\n",
       "         [255, 255, 255]],\n",
       " \n",
       "        ...,\n",
       " \n",
       "        [[255, 255, 255],\n",
       "         [255, 255, 255],\n",
       "         [255, 255, 255],\n",
       "         ...,\n",
       "         [255, 255, 255],\n",
       "         [255, 255, 255],\n",
       "         [255, 255, 255]],\n",
       " \n",
       "        [[255, 255, 255],\n",
       "         [255, 255, 255],\n",
       "         [255, 255, 255],\n",
       "         ...,\n",
       "         [255, 255, 255],\n",
       "         [255, 255, 255],\n",
       "         [255, 255, 255]],\n",
       " \n",
       "        [[255, 255, 255],\n",
       "         [255, 255, 255],\n",
       "         [255, 255, 255],\n",
       "         ...,\n",
       "         [255, 255, 255],\n",
       "         [255, 255, 255],\n",
       "         [255, 255, 255]]], dtype=uint8)\n",
       " orig_shape: (416, 416)\n",
       " path: 'c:\\\\githome\\\\wn7_robo\\\\000004.jpg'\n",
       " probs: None\n",
       " save_dir: 'runs\\\\detect\\\\predict'\n",
       " speed: {'preprocess': 2.9232999950181693, 'inference': 16.943199996603653, 'postprocess': 74.998099997174}]"
      ]
     },
     "execution_count": 1,
     "metadata": {},
     "output_type": "execute_result"
    }
   ],
   "source": [
    "from ultralytics import YOLO\n",
    "# 다운로드 받은걸로 객체 받기\n",
    "model = YOLO('yolov8n.pt')\n",
    "# 모델에 바로 이미지 주기\n",
    "result = model('000004.jpg')\n",
    "result"
   ]
  },
  {
   "cell_type": "code",
   "execution_count": 3,
   "id": "8bfd8e1d",
   "metadata": {},
   "outputs": [
    {
     "name": "stdout",
     "output_type": "stream",
     "text": [
      "\n",
      "image 1/1 c:\\githome\\wn7_robo\\dog_photo.jpg: 384x640 2 dogs, 20.0ms\n",
      "Speed: 4.0ms preprocess, 20.0ms inference, 4.2ms postprocess per image at shape (1, 3, 384, 640)\n"
     ]
    },
    {
     "data": {
      "text/plain": [
       "tensor(0.3573, device='cuda:0')"
      ]
     },
     "execution_count": 3,
     "metadata": {},
     "output_type": "execute_result"
    }
   ],
   "source": [
    "# 바운딩박스, 라벨 출력\n",
    "result = model('dog_photo.jpg')\n",
    "result[0].boxes[0].conf[0]"
   ]
  },
  {
   "cell_type": "code",
   "execution_count": 4,
   "id": "2dd12597",
   "metadata": {},
   "outputs": [
    {
     "data": {
      "text/plain": [
       "array([[[ 0,  0,  0],\n",
       "        [ 0,  0,  0],\n",
       "        [ 0,  0,  0],\n",
       "        ...,\n",
       "        [ 4, 10, 21],\n",
       "        [ 4, 10, 21],\n",
       "        [ 4, 10, 21]],\n",
       "\n",
       "       [[ 0,  0,  0],\n",
       "        [ 0,  0,  0],\n",
       "        [ 0,  0,  0],\n",
       "        ...,\n",
       "        [ 4, 10, 21],\n",
       "        [ 4, 10, 21],\n",
       "        [ 4, 10, 21]],\n",
       "\n",
       "       [[ 0,  0,  0],\n",
       "        [ 0,  0,  0],\n",
       "        [ 0,  0,  0],\n",
       "        ...,\n",
       "        [ 4, 10, 21],\n",
       "        [ 4, 10, 21],\n",
       "        [ 4, 10, 21]],\n",
       "\n",
       "       ...,\n",
       "\n",
       "       [[ 5, 29, 35],\n",
       "        [ 5, 29, 35],\n",
       "        [ 6, 30, 36],\n",
       "        ...,\n",
       "        [ 0, 43, 50],\n",
       "        [ 0, 43, 50],\n",
       "        [ 0, 44, 51]],\n",
       "\n",
       "       [[ 5, 29, 35],\n",
       "        [ 6, 30, 36],\n",
       "        [ 6, 30, 36],\n",
       "        ...,\n",
       "        [ 0, 42, 49],\n",
       "        [ 0, 43, 50],\n",
       "        [ 0, 43, 50]],\n",
       "\n",
       "       [[ 6, 30, 36],\n",
       "        [ 6, 30, 36],\n",
       "        [ 7, 31, 37],\n",
       "        ...,\n",
       "        [ 0, 42, 49],\n",
       "        [ 0, 42, 49],\n",
       "        [ 0, 43, 50]]], dtype=uint8)"
      ]
     },
     "execution_count": 4,
     "metadata": {},
     "output_type": "execute_result"
    }
   ],
   "source": [
    "import cv2\n",
    "img = cv2.imread('dog_photo.jpg')\n",
    "img"
   ]
  },
  {
   "cell_type": "code",
   "execution_count": 9,
   "id": "f7b67b3c",
   "metadata": {},
   "outputs": [
    {
     "data": {
      "text/plain": [
       "True"
      ]
     },
     "execution_count": 9,
     "metadata": {},
     "output_type": "execute_result"
    }
   ],
   "source": [
    "for box in result[0].boxes:\n",
    "    class_id = box.cls[0]\n",
    "    class_name = model.names[class_id.item()]\n",
    "    \n",
    "# 신뢰도 점수 \n",
    "conf = float(box.conf[0])\n",
    "\n",
    "# 바운딩 박스 \n",
    "coords = box.xyxy[0].tolist()\n",
    "x1, y1, x2, y2 = map(int, coords)\n",
    "cv2.rectangle(img, (x1,y1), (x2,y2), (0,255,0), 2)\n",
    "cv2.putText(img, f'{class_name} {conf:.4f}',\n",
    "            (x1,y1-10), cv2.FONT_HERSHEY_PLAIN,\n",
    "            1, (0,225,0), 1)\n",
    "\n",
    "#end-for \n",
    "\n",
    "cv2.imshow('yolov8 object detection', img)\n",
    "cv2.waitKey(0)\n",
    "cv2.destroyAllWindows()\n",
    "cv2.imwrite('detect_result.jpg', img)"
   ]
  },
  {
   "cell_type": "code",
   "execution_count": 10,
   "id": "15e95927",
   "metadata": {},
   "outputs": [],
   "source": [
    "# segmentation"
   ]
  },
  {
   "cell_type": "code",
   "execution_count": 15,
   "id": "02e6d203",
   "metadata": {},
   "outputs": [
    {
     "name": "stdout",
     "output_type": "stream",
     "text": [
      "\n",
      "image 1/1 c:\\githome\\wn7_robo\\dog.jpg: 448x640 1 bear, 27.3ms\n",
      "Speed: 2.9ms preprocess, 27.3ms inference, 6.9ms postprocess per image at shape (1, 3, 448, 640)\n"
     ]
    },
    {
     "data": {
      "text/plain": [
       "ultralytics.engine.results.Results object with attributes:\n",
       "\n",
       "boxes: ultralytics.engine.results.Boxes object\n",
       "keypoints: None\n",
       "masks: ultralytics.engine.results.Masks object\n",
       "names: {0: 'person', 1: 'bicycle', 2: 'car', 3: 'motorcycle', 4: 'airplane', 5: 'bus', 6: 'train', 7: 'truck', 8: 'boat', 9: 'traffic light', 10: 'fire hydrant', 11: 'stop sign', 12: 'parking meter', 13: 'bench', 14: 'bird', 15: 'cat', 16: 'dog', 17: 'horse', 18: 'sheep', 19: 'cow', 20: 'elephant', 21: 'bear', 22: 'zebra', 23: 'giraffe', 24: 'backpack', 25: 'umbrella', 26: 'handbag', 27: 'tie', 28: 'suitcase', 29: 'frisbee', 30: 'skis', 31: 'snowboard', 32: 'sports ball', 33: 'kite', 34: 'baseball bat', 35: 'baseball glove', 36: 'skateboard', 37: 'surfboard', 38: 'tennis racket', 39: 'bottle', 40: 'wine glass', 41: 'cup', 42: 'fork', 43: 'knife', 44: 'spoon', 45: 'bowl', 46: 'banana', 47: 'apple', 48: 'sandwich', 49: 'orange', 50: 'broccoli', 51: 'carrot', 52: 'hot dog', 53: 'pizza', 54: 'donut', 55: 'cake', 56: 'chair', 57: 'couch', 58: 'potted plant', 59: 'bed', 60: 'dining table', 61: 'toilet', 62: 'tv', 63: 'laptop', 64: 'mouse', 65: 'remote', 66: 'keyboard', 67: 'cell phone', 68: 'microwave', 69: 'oven', 70: 'toaster', 71: 'sink', 72: 'refrigerator', 73: 'book', 74: 'clock', 75: 'vase', 76: 'scissors', 77: 'teddy bear', 78: 'hair drier', 79: 'toothbrush'}\n",
       "obb: None\n",
       "orig_img: array([[[ 72,  97, 107],\n",
       "        [ 73,  98, 108],\n",
       "        [ 76, 101, 111],\n",
       "        ...,\n",
       "        [ 92,  94,  94],\n",
       "        [ 93,  96,  94],\n",
       "        [ 94,  97,  95]],\n",
       "\n",
       "       [[ 72,  97, 107],\n",
       "        [ 73,  98, 108],\n",
       "        [ 74,  99, 109],\n",
       "        ...,\n",
       "        [ 97,  99,  99],\n",
       "        [ 99, 102, 100],\n",
       "        [101, 104, 102]],\n",
       "\n",
       "       [[ 71,  93, 104],\n",
       "        [ 71,  93, 104],\n",
       "        [ 73,  95, 106],\n",
       "        ...,\n",
       "        [100, 105, 104],\n",
       "        [103, 108, 107],\n",
       "        [104, 109, 108]],\n",
       "\n",
       "       ...,\n",
       "\n",
       "       [[117, 159, 166],\n",
       "        [112, 155, 164],\n",
       "        [107, 152, 163],\n",
       "        ...,\n",
       "        [153, 181, 192],\n",
       "        [163, 202, 211],\n",
       "        [189, 235, 243]],\n",
       "\n",
       "       [[117, 159, 166],\n",
       "        [111, 154, 163],\n",
       "        [105, 150, 161],\n",
       "        ...,\n",
       "        [152, 187, 197],\n",
       "        [150, 196, 204],\n",
       "        [153, 205, 212]],\n",
       "\n",
       "       [[116, 160, 167],\n",
       "        [109, 155, 163],\n",
       "        [103, 149, 160],\n",
       "        ...,\n",
       "        [158, 197, 206],\n",
       "        [156, 205, 213],\n",
       "        [138, 192, 199]]], dtype=uint8)\n",
       "orig_shape: (853, 1280)\n",
       "path: 'c:\\\\githome\\\\wn7_robo\\\\dog.jpg'\n",
       "probs: None\n",
       "save_dir: 'runs\\\\segment\\\\predict'\n",
       "speed: {'preprocess': 2.891299984185025, 'inference': 27.346599992597476, 'postprocess': 6.930700008524582}"
      ]
     },
     "execution_count": 15,
     "metadata": {},
     "output_type": "execute_result"
    }
   ],
   "source": [
    "from ultralytics import YOLO\n",
    "\n",
    "model = YOLO('yolov8n-seg.pt')\n",
    "result = model('dog.jpg')\n",
    "result[0]"
   ]
  },
  {
   "cell_type": "code",
   "execution_count": 35,
   "id": "740b91c5",
   "metadata": {},
   "outputs": [
    {
     "data": {
      "text/plain": [
       "True"
      ]
     },
     "execution_count": 35,
     "metadata": {},
     "output_type": "execute_result"
    }
   ],
   "source": [
    "img_new = cv2.imread('dog.jpg')\n",
    "overlay = img_new.copy() #마스크용\n",
    "\n",
    "for box, mask in zip(result[0].boxes, result[0].masks):\n",
    "    \n",
    "    # 마스크 그리기 \n",
    "    polygon = mask.xy[0].astype(np.int32)\n",
    "    cv2.fillPoly(overlay, [polygon], (0,255,0))\n",
    "    \n",
    "    class_id = box.cls[0]\n",
    "    class_name = model.names[class_id.item()]\n",
    "    \n",
    "    # 신뢰도 점수 \n",
    "    conf = float(box.conf[0])\n",
    "\n",
    "    # 바운딩 박스 \n",
    "    coords = box.xyxy[0].tolist()\n",
    "    x1, y1, x2, y2 = map(int, coords)\n",
    "    cv2.rectangle(img_new, (x1,y1), (x2,y2), (0,255,0), 2)\n",
    "    cv2.putText(img_new, f'{class_name} {conf:.4f}',\n",
    "                (x1,y1-10), cv2.FONT_HERSHEY_PLAIN,\n",
    "                1, (0,225,0), 1)\n",
    "\n",
    "#img+overlay 겹쳐서 출력 \n",
    "alpha = 0.5\n",
    "final_img = cv2.addWeighted(overlay, alpha, img_new, 1-alpha, 0)\n",
    "\n",
    "# 최종출력\n",
    "cv2.imshow('yolov8 object segments', final_img)\n",
    "cv2.waitKey(0)\n",
    "cv2.destroyAllWindows()\n",
    "cv2.imwrite('segments_result.jpg', final_img)"
   ]
  },
  {
   "cell_type": "code",
   "execution_count": 32,
   "id": "a0472af4",
   "metadata": {},
   "outputs": [],
   "source": [
    "# 분류 (생략)\n",
    "# 자세"
   ]
  },
  {
   "cell_type": "code",
   "execution_count": 37,
   "id": "08635d0b",
   "metadata": {},
   "outputs": [
    {
     "name": "stdout",
     "output_type": "stream",
     "text": [
      "\n",
      "image 1/1 c:\\githome\\wn7_robo\\wish.jpg: 480x640 1 person, 23.8ms\n",
      "Speed: 2.8ms preprocess, 23.8ms inference, 4.8ms postprocess per image at shape (1, 3, 480, 640)\n"
     ]
    },
    {
     "data": {
      "text/plain": [
       "True"
      ]
     },
     "execution_count": 37,
     "metadata": {},
     "output_type": "execute_result"
    }
   ],
   "source": [
    "pose_model = YOLO('yolov8n-pose.pt')\n",
    "pose_result = pose_model('wish.jpg')\n",
    "img = cv2.imread('wish.jpg')\n",
    "\n",
    "kp = pose_result[0].keypoints\n",
    "\n",
    "for man_kp in kp:\n",
    "    for x,y in man_kp.xy[0]:\n",
    "        # 혹시 0에서 시작하는 좌표 -> pass\n",
    "        if x>0 and y>0:\n",
    "            cv2.circle(img, (int(x), int(y)), 3, (0,255,0), -1)\n",
    "\n",
    "# 최종출력\n",
    "cv2.imshow('yolov8 object pose', img)\n",
    "cv2.waitKey(0)\n",
    "cv2.destroyAllWindows()\n",
    "cv2.imwrite('pose_result.jpg', img)"
   ]
  },
  {
   "cell_type": "code",
   "execution_count": 38,
   "id": "6e335e52",
   "metadata": {},
   "outputs": [
    {
     "name": "stdout",
     "output_type": "stream",
     "text": [
      "\n",
      "image 1/1 c:\\githome\\wn7_robo\\jadu.jpg: 640x448 (no detections), 38.0ms\n",
      "Speed: 2.3ms preprocess, 38.0ms inference, 1.2ms postprocess per image at shape (1, 3, 640, 448)\n"
     ]
    },
    {
     "data": {
      "text/plain": [
       "True"
      ]
     },
     "execution_count": 38,
     "metadata": {},
     "output_type": "execute_result"
    }
   ],
   "source": [
    "pose_model = YOLO('yolov8n-pose.pt')\n",
    "pose_result = pose_model('jadu.jpg')\n",
    "img = cv2.imread('jadu.jpg')\n",
    "\n",
    "kp = pose_result[0].keypoints\n",
    "\n",
    "for man_kp in kp:\n",
    "    for x,y in man_kp.xy[0]:\n",
    "        # 혹시 0에서 시작하는 좌표 -> pass\n",
    "        if x>0 and y>0:\n",
    "            cv2.circle(img, (int(x), int(y)), 3, (0,255,0), -1)\n",
    "\n",
    "# 최종출력\n",
    "cv2.imshow('yolov8 object pose', img)\n",
    "cv2.waitKey(0)\n",
    "cv2.destroyAllWindows()\n",
    "cv2.imwrite('pose_result.jpg', img)"
   ]
  },
  {
   "cell_type": "code",
   "execution_count": 39,
   "id": "8ea0d98d",
   "metadata": {},
   "outputs": [
    {
     "name": "stdout",
     "output_type": "stream",
     "text": [
      "\n",
      "image 1/1 c:\\githome\\wn7_robo\\laydown.jpg: 384x640 1 person, 23.1ms\n",
      "Speed: 4.3ms preprocess, 23.1ms inference, 4.4ms postprocess per image at shape (1, 3, 384, 640)\n"
     ]
    },
    {
     "data": {
      "text/plain": [
       "True"
      ]
     },
     "execution_count": 39,
     "metadata": {},
     "output_type": "execute_result"
    }
   ],
   "source": [
    "pose_model = YOLO('yolov8n-pose.pt')\n",
    "pose_result = pose_model('laydown.jpg')\n",
    "img = cv2.imread('laydown.jpg')\n",
    "\n",
    "kp = pose_result[0].keypoints\n",
    "\n",
    "for man_kp in kp:\n",
    "    for x,y in man_kp.xy[0]:\n",
    "        # 혹시 0에서 시작하는 좌표 -> pass\n",
    "        if x>0 and y>0:\n",
    "            cv2.circle(img, (int(x), int(y)), 3, (0,255,0), -1)\n",
    "\n",
    "# 최종출력\n",
    "cv2.imshow('yolov8 object pose', img)\n",
    "cv2.waitKey(0)\n",
    "cv2.destroyAllWindows()\n",
    "cv2.imwrite('pose_result.jpg', img)"
   ]
  },
  {
   "cell_type": "code",
   "execution_count": null,
   "id": "b9c44958",
   "metadata": {},
   "outputs": [],
   "source": []
  }
 ],
 "metadata": {
  "kernelspec": {
   "display_name": "torch_cuda_yolo_env",
   "language": "python",
   "name": "python3"
  },
  "language_info": {
   "codemirror_mode": {
    "name": "ipython",
    "version": 3
   },
   "file_extension": ".py",
   "mimetype": "text/x-python",
   "name": "python",
   "nbconvert_exporter": "python",
   "pygments_lexer": "ipython3",
   "version": "3.10.18"
  }
 },
 "nbformat": 4,
 "nbformat_minor": 5
}
