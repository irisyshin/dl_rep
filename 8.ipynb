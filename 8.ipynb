{
 "cells": [
  {
   "cell_type": "code",
   "execution_count": 1,
   "id": "da298f81",
   "metadata": {},
   "outputs": [
    {
     "name": "stdout",
     "output_type": "stream",
     "text": [
      "['John', 'likes', 'to', 'watch', 'movies', 'Mary', 'likes', 'movies', 'tooMary', 'also', 'likes', 'to', 'watch', 'football', 'games']\n"
     ]
    }
   ],
   "source": [
    "text = \"John likes to watch movies. Mary likes movies too.\\\n",
    "Mary also likes to watch football games.\"\n",
    "words = text.replace('.','').split()\n",
    "print(words)"
   ]
  },
  {
   "cell_type": "code",
   "execution_count": 2,
   "id": "4f4decdb",
   "metadata": {},
   "outputs": [
    {
     "name": "stdout",
     "output_type": "stream",
     "text": [
      "(array(['John', 'Mary', 'also', 'football', 'games', 'likes', 'movies',\n",
      "       'to', 'tooMary', 'watch'], dtype='<U8'), array([1, 1, 1, 1, 1, 3, 2, 2, 1, 2]))\n"
     ]
    }
   ],
   "source": [
    "# 단어 개수 세기 \n",
    "import numpy as np\n",
    "word_count = np.unique(words, return_counts=True)\n",
    "print(word_count)"
   ]
  },
  {
   "cell_type": "code",
   "execution_count": 3,
   "id": "0f78e7ca",
   "metadata": {},
   "outputs": [
    {
     "name": "stdout",
     "output_type": "stream",
     "text": [
      "{'John': 1, 'Mary': 1, 'also': 1, 'football': 1, 'games': 1, 'likes': 3, 'movies': 2, 'to': 2, 'tooMary': 1, 'watch': 2}\n"
     ]
    }
   ],
   "source": [
    "# dict TF 생성\n",
    "word_to_cnt = {}\n",
    "for word, cnt in zip (*word_count):\n",
    "    word_to_cnt[word] = cnt\n",
    "\n",
    "print(word_to_cnt)"
   ]
  },
  {
   "cell_type": "code",
   "execution_count": 4,
   "id": "957585bb",
   "metadata": {},
   "outputs": [
    {
     "data": {
      "text/plain": [
       "2"
      ]
     },
     "execution_count": 4,
     "metadata": {},
     "output_type": "execute_result"
    }
   ],
   "source": [
    "# movie 몇번 나왔나 꺼내기 \n",
    "word_to_cnt['movies']"
   ]
  },
  {
   "cell_type": "code",
   "execution_count": 5,
   "id": "c48ab685",
   "metadata": {},
   "outputs": [],
   "source": [
    "# 각 문서별로 단어의 빈도수를 계산해서 행렬로 만들어 놓은 것 \n"
   ]
  },
  {
   "cell_type": "code",
   "execution_count": 6,
   "id": "7a36142a",
   "metadata": {},
   "outputs": [],
   "source": [
    "corpus = [\"John likes to watch movies. Mary likes movies too.\",\n",
    "\"Mary also likes to watch football games.\"]"
   ]
  },
  {
   "cell_type": "code",
   "execution_count": 7,
   "id": "5b029e01",
   "metadata": {},
   "outputs": [
    {
     "data": {
      "text/plain": [
       "array([[0, 0, 0, 1, 2, 1, 2, 1, 1, 1],\n",
       "       [1, 1, 1, 0, 1, 1, 0, 1, 0, 1]])"
      ]
     },
     "execution_count": 7,
     "metadata": {},
     "output_type": "execute_result"
    }
   ],
   "source": [
    "from sklearn.feature_extraction.text import CountVectorizer\n",
    "vector = CountVectorizer()\n",
    "dtm_array = vector.fit_transform(corpus).toarray()\n",
    "dtm_array"
   ]
  },
  {
   "cell_type": "code",
   "execution_count": 8,
   "id": "18c48602",
   "metadata": {},
   "outputs": [],
   "source": [
    "# 단어사전 \n",
    "# 위에 인덱스랑 매칭 \n",
    "# 단어 사전 안에 있는 숫자가 인덱스 \n",
    "tf_dic = vector.vocabulary_\n",
    "\n",
    "# TDM: 문장 내에 나타나있는 빈도수 !!!! \n",
    "# 인덱스는 문서 전체? 안에서 전체에서 만듦 -> 문장마다 몇번 나왔는지 !!"
   ]
  },
  {
   "cell_type": "markdown",
   "id": "81ea0c3c",
   "metadata": {},
   "source": [
    "# 단어의 임베딩 \n",
    "- 빈도수 계산 : 빈도기반 - TF 상대빈도 \n",
    "- TDM : matrix, TF를 행렬로 만든 것, 사진을 이용한 단순빈도\n",
    "- TF-IDF :  TF*IDF\n",
    "- TDF : 역문서빈도"
   ]
  },
  {
   "cell_type": "code",
   "execution_count": 9,
   "id": "bfe8bd66",
   "metadata": {},
   "outputs": [
    {
     "data": {
      "text/html": [
       "<div>\n",
       "<style scoped>\n",
       "    .dataframe tbody tr th:only-of-type {\n",
       "        vertical-align: middle;\n",
       "    }\n",
       "\n",
       "    .dataframe tbody tr th {\n",
       "        vertical-align: top;\n",
       "    }\n",
       "\n",
       "    .dataframe thead th {\n",
       "        text-align: right;\n",
       "    }\n",
       "</style>\n",
       "<table border=\"1\" class=\"dataframe\">\n",
       "  <thead>\n",
       "    <tr style=\"text-align: right;\">\n",
       "      <th></th>\n",
       "      <th>also</th>\n",
       "      <th>football</th>\n",
       "      <th>games</th>\n",
       "      <th>john</th>\n",
       "      <th>likes</th>\n",
       "      <th>mary</th>\n",
       "      <th>movies</th>\n",
       "      <th>to</th>\n",
       "      <th>too</th>\n",
       "      <th>watch</th>\n",
       "    </tr>\n",
       "  </thead>\n",
       "  <tbody>\n",
       "    <tr>\n",
       "      <th>0</th>\n",
       "      <td>0</td>\n",
       "      <td>0</td>\n",
       "      <td>0</td>\n",
       "      <td>1</td>\n",
       "      <td>2</td>\n",
       "      <td>1</td>\n",
       "      <td>2</td>\n",
       "      <td>1</td>\n",
       "      <td>1</td>\n",
       "      <td>1</td>\n",
       "    </tr>\n",
       "    <tr>\n",
       "      <th>1</th>\n",
       "      <td>1</td>\n",
       "      <td>1</td>\n",
       "      <td>1</td>\n",
       "      <td>0</td>\n",
       "      <td>1</td>\n",
       "      <td>1</td>\n",
       "      <td>0</td>\n",
       "      <td>1</td>\n",
       "      <td>0</td>\n",
       "      <td>1</td>\n",
       "    </tr>\n",
       "  </tbody>\n",
       "</table>\n",
       "</div>"
      ],
      "text/plain": [
       "   also  football  games  john  likes  mary  movies  to  too  watch\n",
       "0     0         0      0     1      2     1       2   1    1      1\n",
       "1     1         1      1     0      1     1       0   1    0      1"
      ]
     },
     "execution_count": 9,
     "metadata": {},
     "output_type": "execute_result"
    }
   ],
   "source": [
    "import pandas as pd\n",
    "tf_dic_sorted = dict(sorted(tf_dic.items(), key=lambda item: item[1]))\n",
    "# tf_dic_sorted\n",
    "df = pd.DataFrame(dtm_array, columns=tf_dic_sorted.keys())\n",
    "df"
   ]
  },
  {
   "cell_type": "code",
   "execution_count": 10,
   "id": "f3381e32",
   "metadata": {},
   "outputs": [
    {
     "name": "stdout",
     "output_type": "stream",
     "text": [
      "[[0.         0.         0.         0.32369906 0.46062909 0.23031454\n",
      "  0.64739811 0.23031454 0.32369906 0.23031454]\n",
      " [0.44610081 0.44610081 0.44610081 0.         0.3174044  0.3174044\n",
      "  0.         0.3174044  0.         0.3174044 ]]\n"
     ]
    }
   ],
   "source": [
    "# TF-IDF\n",
    "from sklearn.feature_extraction.text import TfidfVectorizer\n",
    "tfidf_vec = TfidfVectorizer()\n",
    "tfidf_array = tfidf_vec.fit_transform(corpus).toarray() # 결과를  array로 받기 \n",
    "print(tfidf_array)"
   ]
  },
  {
   "cell_type": "code",
   "execution_count": 11,
   "id": "0c26de1e",
   "metadata": {},
   "outputs": [
    {
     "name": "stdout",
     "output_type": "stream",
     "text": [
      "       also  football     games      john     likes      mary    movies  \\\n",
      "0  0.000000  0.000000  0.000000  0.323699  0.460629  0.230315  0.647398   \n",
      "1  0.446101  0.446101  0.446101  0.000000  0.317404  0.317404  0.000000   \n",
      "\n",
      "         to       too     watch  \n",
      "0  0.230315  0.323699  0.230315  \n",
      "1  0.317404  0.000000  0.317404  \n"
     ]
    }
   ],
   "source": [
    "tfidf_dic = tfidf_vec.vocabulary_\n",
    "tfidf_dic_sorted = dict(sorted(tfidf_dic.items(),\n",
    "                               key=lambda item: item[1]))\n",
    "tfidf_dtm = pd.DataFrame(tfidf_array,\n",
    "                         columns=tfidf_dic_sorted.keys())\n",
    "print(tfidf_dtm)"
   ]
  },
  {
   "cell_type": "code",
   "execution_count": null,
   "id": "558a7854",
   "metadata": {},
   "outputs": [
    {
     "name": "stdout",
     "output_type": "stream",
     "text": [
      "Requirement already satisfied: gensim in /home/devuser/miniconda3/envs/tf_cuda_env/lib/python3.10/site-packages (4.3.3)\n",
      "Requirement already satisfied: numpy<2.0,>=1.18.5 in /home/devuser/miniconda3/envs/tf_cuda_env/lib/python3.10/site-packages (from gensim) (1.26.4)\n",
      "Requirement already satisfied: scipy<1.14.0,>=1.7.0 in /home/devuser/miniconda3/envs/tf_cuda_env/lib/python3.10/site-packages (from gensim) (1.13.1)\n",
      "Requirement already satisfied: smart-open>=1.8.1 in /home/devuser/miniconda3/envs/tf_cuda_env/lib/python3.10/site-packages (from gensim) (7.3.0.post1)\n",
      "Requirement already satisfied: wrapt in /home/devuser/miniconda3/envs/tf_cuda_env/lib/python3.10/site-packages (from smart-open>=1.8.1->gensim) (1.17.3)\n",
      "Note: you may need to restart the kernel to use updated packages.\n"
     ]
    }
   ],
   "source": [
    "#pip install --upgrade gensim"
   ]
  },
  {
   "cell_type": "code",
   "execution_count": 13,
   "id": "42261e25",
   "metadata": {},
   "outputs": [],
   "source": [
    "#pip show gensim numpy"
   ]
  },
  {
   "cell_type": "code",
   "execution_count": 14,
   "id": "17747bf0",
   "metadata": {},
   "outputs": [],
   "source": [
    "corpus = [\"John likes to watch movies. Mary likes movies too.\",\n",
    "\"Mary also likes to watch football games.\"]"
   ]
  },
  {
   "cell_type": "code",
   "execution_count": 15,
   "id": "c4081f4b",
   "metadata": {},
   "outputs": [
    {
     "data": {
      "text/plain": [
       "[['John', 'likes', 'to', 'watch', 'movies', 'Mary', 'likes', 'movies', 'too'],\n",
       " ['Mary', 'also', 'likes', 'to', 'watch', 'football', 'games']]"
      ]
     },
     "execution_count": 15,
     "metadata": {},
     "output_type": "execute_result"
    }
   ],
   "source": [
    "word_list = []\n",
    "for word in corpus:\n",
    "    word_list.append(word.replace('.','').split())\n",
    "\n",
    "word_list"
   ]
  },
  {
   "cell_type": "code",
   "execution_count": 18,
   "id": "2c451e4b",
   "metadata": {},
   "outputs": [
    {
     "name": "stdout",
     "output_type": "stream",
     "text": [
      "[('John', 0.21617145836353302), ('also', 0.09291718155145645), ('too', 0.027057474479079247), ('football', 0.01613466814160347), ('Mary', -0.01084057241678238), ('to', -0.02775036357343197), ('movies', -0.052346743643283844), ('games', -0.05987629294395447), ('watch', -0.111670583486557)]\n",
      "0.0640898\n",
      "-0.09576219\n"
     ]
    }
   ],
   "source": [
    "from gensim.models import Word2Vec\n",
    "model = Word2Vec(word_list, sg=0, vector_size=100, window=3, min_count=1)\n",
    "\n",
    "print(model.wv.most_similar('likes'))\n",
    "print(model.wv.similarity('movies','games'))\n",
    "print(model.wv.similarity('John','Mary'))\n"
   ]
  },
  {
   "cell_type": "code",
   "execution_count": null,
   "id": "0ec0e2ea",
   "metadata": {},
   "outputs": [],
   "source": []
  }
 ],
 "metadata": {
  "kernelspec": {
   "display_name": "tf_cuda_env",
   "language": "python",
   "name": "python3"
  },
  "language_info": {
   "codemirror_mode": {
    "name": "ipython",
    "version": 3
   },
   "file_extension": ".py",
   "mimetype": "text/x-python",
   "name": "python",
   "nbconvert_exporter": "python",
   "pygments_lexer": "ipython3",
   "version": "3.10.18"
  }
 },
 "nbformat": 4,
 "nbformat_minor": 5
}
