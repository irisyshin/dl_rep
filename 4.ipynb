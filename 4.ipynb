{
 "cells": [
  {
   "cell_type": "code",
   "execution_count": 1,
   "id": "5ea233ed",
   "metadata": {},
   "outputs": [
    {
     "name": "stdout",
     "output_type": "stream",
     "text": [
      "torch: 2.6.0+cu124 cuda: 12.4 is_available: True\n"
     ]
    }
   ],
   "source": [
    "import torch\n",
    "print(\"torch:\", torch.__version__,\n",
    "      \"cuda:\", torch.version.cuda,\n",
    "      \"is_available:\",\n",
    "      torch.cuda.is_available())"
   ]
  },
  {
   "cell_type": "code",
   "execution_count": null,
   "id": "a02d61de",
   "metadata": {},
   "outputs": [],
   "source": [
    "# pip install inference-sdk\n",
    "# pip install python-dotenv"
   ]
  },
  {
   "cell_type": "code",
   "execution_count": null,
   "id": "213e872b",
   "metadata": {},
   "outputs": [],
   "source": [
    "import os\n",
    "from dotenv import load_dotenv\n",
    "loaded = load_dotenv()\n",
    "os.getenv('ROBOFLOW_API_KEY')"
   ]
  },
  {
   "cell_type": "code",
   "execution_count": null,
   "id": "c8f1a7d5",
   "metadata": {},
   "outputs": [],
   "source": [
    "from inference_sdk import InferenceHTTPClient\n",
    "CLIENT = InferenceHTTPClient(\n",
    "    api_url='https://detect.roboflow.com',\n",
    "    api_key=os.getenv('ROBOFLOW_API_KEY')\n",
    ")\n",
    "CLIENT"
   ]
  },
  {
   "cell_type": "code",
   "execution_count": null,
   "id": "2628b9cd",
   "metadata": {},
   "outputs": [],
   "source": [
    "# pip install ultralytics roboflow opencv-python pillow matplotlib inference-sdk"
   ]
  },
  {
   "cell_type": "code",
   "execution_count": null,
   "id": "1a72e1da",
   "metadata": {},
   "outputs": [],
   "source": [
    "import roboflow"
   ]
  },
  {
   "cell_type": "code",
   "execution_count": null,
   "id": "96b0dcf2",
   "metadata": {},
   "outputs": [],
   "source": [
    "result = CLIENT.infer('sn-rockpaper.png', model_id=\"rock-paper-scissors-sxsw/14\")\n",
    "print(result)"
   ]
  },
  {
   "cell_type": "code",
   "execution_count": null,
   "id": "a34c7dd4",
   "metadata": {},
   "outputs": [],
   "source": [
    "import cv2\n",
    "img = cv2.imread('sn-rockpaper.png')\n",
    "for pred in result['predictions']:\n",
    "    x = pred['x']\n",
    "    y = pred['y']\n",
    "    width = pred['width']\n",
    "    height = pred['height']\n",
    "    conf = pred['confidence']\n",
    "    obj_class = pred['class']\n",
    "\n",
    "    x1, y1 = int(x-width/2), int(y-height/2)\n",
    "    x2, y2 = int(x+width/2), int(y+height/2)\n",
    "    cv2.rectangle(img, (x1,y1), (x2, y2), (0,0,255), 2)\n",
    "    cv2.putText(img, f'{obj_class} {conf:.4f}', (x1,y1), cv2.FONT_HERSHEY_PLAIN, 2, (0,0,255))\n",
    "    \n",
    "    print(x,y,width,height,conf,obj_class)\n",
    "\n",
    "cv2.imshow('image', img)\n",
    "cv2.waitKey() # 별도의 창이 열림, 닫지 않게끔 설정\n",
    "cv2.destroyAllWindows() # 창 닫으면 종료."
   ]
  },
  {
   "cell_type": "code",
   "execution_count": null,
   "id": "7440bbe3",
   "metadata": {},
   "outputs": [],
   "source": [
    "# 숫자 정의"
   ]
  },
  {
   "cell_type": "code",
   "execution_count": null,
   "id": "a7cd65cd",
   "metadata": {},
   "outputs": [],
   "source": [
    "from inference_sdk import InferenceHTTPClient\n",
    "CLIENT = InferenceHTTPClient(\n",
    "    api_url='https://detect.roboflow.com',\n",
    "    api_key=os.getenv('ROBOFLOW_API_KEY')\n",
    ")\n",
    "CLIENT"
   ]
  },
  {
   "cell_type": "code",
   "execution_count": null,
   "id": "99a8688c",
   "metadata": {},
   "outputs": [],
   "source": [
    "result = CLIENT.infer('000004.jpg', model_id=\"digital-numbers-v3ajx/1\")\n",
    "print(result)"
   ]
  },
  {
   "cell_type": "code",
   "execution_count": null,
   "id": "9dd4d559",
   "metadata": {},
   "outputs": [],
   "source": [
    "import cv2\n",
    "img = cv2.imread('000004.jpg')\n",
    "for pred in result['predictions']:\n",
    "    x = pred['x']\n",
    "    y = pred['y']\n",
    "    width = pred['width']\n",
    "    height = pred['height']\n",
    "    conf = pred['confidence']\n",
    "    obj_class = pred['class']\n",
    "\n",
    "    x1, y1 = int(x-width/2), int(y-height/2)\n",
    "    x2, y2 = int(x+width/2), int(y+height/2)\n",
    "    cv2.rectangle(img, (x1,y1), (x2, y2), (0,0,255), 2)\n",
    "    cv2.putText(img, f'{obj_class} {conf:.4f}', (x1,y1), cv2.FONT_HERSHEY_PLAIN, 2, (0,0,255))\n",
    "    \n",
    "    print(x,y,width,height,conf,obj_class)\n",
    "\n",
    "cv2.imshow('image', img)\n",
    "cv2.waitKey() # 별도의 창이 열림, 닫지 않게끔 설정\n",
    "cv2.destroyAllWindows() # 창 닫으면 종료."
   ]
  },
  {
   "cell_type": "code",
   "execution_count": null,
   "id": "6949338e",
   "metadata": {},
   "outputs": [],
   "source": [
    "# model 가져오기"
   ]
  },
  {
   "cell_type": "code",
   "execution_count": null,
   "id": "60e61b2a",
   "metadata": {},
   "outputs": [],
   "source": [
    "from roboflow import Roboflow\n",
    "import cv2\n",
    "rf = Roboflow(api_key=os.getenv('ROBOFLOW_API_KEY'))\n",
    "project = rf.workspace().project('numbers-yt0h2')\n",
    "numbers_model = project.version(2).model\n",
    "numbers_model"
   ]
  },
  {
   "cell_type": "code",
   "execution_count": null,
   "id": "56c08a93",
   "metadata": {},
   "outputs": [],
   "source": [
    "filename = '000005.jpg'\n",
    "result = numbers_model.predict(filename, confidence=40, overlap=30)\n",
    "result_json = result.json()\n",
    "print(result_json)\n",
    "for pred in result_json[\"predictions\"]:\n",
    "    x = pred['x'] # 사각형의 중심위치 x\n",
    "    y = pred['y'] # 사각형의 중심위치 y\n",
    "    width = pred['width']\n",
    "    height = pred['height']\n",
    "    conf = pred['confidence']\n",
    "    cls = pred['class']\n",
    "    print(x, y, width, height, f'{cls} {conf:.4f}')"
   ]
  },
  {
   "cell_type": "code",
   "execution_count": null,
   "id": "f4e6dac5",
   "metadata": {},
   "outputs": [],
   "source": [
    "# 이거 가지고는 학습 못함 -> label이 없어서 \n",
    "# 분류는 가능하지만 "
   ]
  }
 ],
 "metadata": {
  "kernelspec": {
   "display_name": "torch_cuda_yolo_env",
   "language": "python",
   "name": "python3"
  },
  "language_info": {
   "codemirror_mode": {
    "name": "ipython",
    "version": 3
   },
   "file_extension": ".py",
   "mimetype": "text/x-python",
   "name": "python",
   "nbconvert_exporter": "python",
   "pygments_lexer": "ipython3",
   "version": "3.10.18"
  }
 },
 "nbformat": 4,
 "nbformat_minor": 5
}
